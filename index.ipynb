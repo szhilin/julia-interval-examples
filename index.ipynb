{
 "cells": [
  {
   "cell_type": "markdown",
   "metadata": {},
   "source": [
    "# Классическая интервальная арифметика\n",
    "\n",
    "Для интервальных арифметических операций развёрнутое\n",
    "определение задаётся следующими формулами:\n",
    "\n",
    "$\\mathbf{a} + \\mathbf{b} = [\\underline{\\mathbf{a}} + \\underline{\\mathbf{b}},\\ \\overline{\\mathbf{a}} + \\overline{\\mathbf{b}}],$\n",
    "\n",
    "$\\mathbf{a} - \\mathbf{b} = [\\underline{\\mathbf{a}} - \\overline{\\mathbf{b}},\\ \\overline{\\mathbf{a}} - \\underline{\\mathbf{b}}],$\n",
    "\n",
    "$\\mathbf{a} \\cdot \\mathbf{b} = [\\min(\\underline{\\mathbf{a}} \\cdot \\underline{\\mathbf{b}}, \\underline{\\mathbf{a}} \\cdot \\overline{\\mathbf{b}}, \\overline{\\mathbf{a}} \\cdot \\underline{\\mathbf{b}}, \\overline{\\mathbf{a}} \\cdot \\overline{\\mathbf{b}}),\\ \\max(\\underline{\\mathbf{a}} \\cdot \\underline{\\mathbf{b}}, \\underline{\\mathbf{a}} \\cdot \\overline{\\mathbf{b}}, \\overline{\\mathbf{a}} \\cdot \\underline{\\mathbf{b}}, \\overline{\\mathbf{a}} \\cdot \\overline{\\mathbf{b}})],$\n",
    "\n",
    "$\\mathbf{a}\\; / \\; \\mathbf{b} = \\mathbf{a} \\cdot [1\\;/\\;\\overline{\\mathbf{b}},\\ 1\\;/\\;\\underline{\\mathbf{b}}] \\quad \\mbox{для} \\quad \\mathbf{b} \\not\\owns 0.$ \n"
   ]
  },
  {
   "cell_type": "code",
   "execution_count": 4,
   "metadata": {},
   "outputs": [
    {
     "name": "stdout",
     "output_type": "stream",
     "text": [
      "[4, 6]\n",
      "[-3, -1]\n",
      "[3, 8]\n",
      "[0.25, 0.666667]\n"
     ]
    }
   ],
   "source": [
    "using IntervalArithmetic\n",
    "\n",
    "a = interval(1,2)\n",
    "b = interval(3,4)\n",
    "\n",
    "println(a + b)\n",
    "println(a - b)\n",
    "println(a * b)\n",
    "println(a / b)"
   ]
  },
  {
   "cell_type": "code",
   "execution_count": 8,
   "metadata": {},
   "outputs": [
    {
     "data": {
      "text/plain": [
       "1.0"
      ]
     },
     "execution_count": 8,
     "metadata": {},
     "output_type": "execute_result"
    }
   ],
   "source": [
    "## Ширина интервала\n",
    "diam(a)"
   ]
  },
  {
   "cell_type": "code",
   "execution_count": 13,
   "metadata": {},
   "outputs": [
    {
     "data": {
      "text/plain": [
       "1.5"
      ]
     },
     "execution_count": 13,
     "metadata": {},
     "output_type": "execute_result"
    }
   ],
   "source": [
    "## Середина интервала\n",
    "mid(a)"
   ]
  },
  {
   "cell_type": "code",
   "execution_count": 12,
   "metadata": {},
   "outputs": [
    {
     "data": {
      "text/plain": [
       "0.5"
      ]
     },
     "execution_count": 12,
     "metadata": {},
     "output_type": "execute_result"
    }
   ],
   "source": [
    "## Радиус интервала\n",
    "radius(a)"
   ]
  },
  {
   "cell_type": "code",
   "execution_count": 10,
   "metadata": {},
   "outputs": [
    {
     "data": {
      "text/plain": [
       "2.0"
      ]
     },
     "execution_count": 10,
     "metadata": {},
     "output_type": "execute_result"
    }
   ],
   "source": [
    "## Магнитутда интервала\n",
    "mag(a)"
   ]
  },
  {
   "cell_type": "code",
   "execution_count": 11,
   "metadata": {},
   "outputs": [
    {
     "data": {
      "text/plain": [
       "1.0"
      ]
     },
     "execution_count": 11,
     "metadata": {},
     "output_type": "execute_result"
    }
   ],
   "source": [
    "## Мигнитуда интервала\n",
    "mig(a)"
   ]
  },
  {
   "cell_type": "code",
   "execution_count": 15,
   "metadata": {},
   "outputs": [
    {
     "data": {
      "text/plain": [
       "∅"
      ]
     },
     "execution_count": 15,
     "metadata": {},
     "output_type": "execute_result"
    }
   ],
   "source": [
    "## Пересечение интервалов\n",
    "intersect(a,b)"
   ]
  },
  {
   "cell_type": "code",
   "execution_count": 16,
   "metadata": {},
   "outputs": [
    {
     "data": {
      "text/plain": [
       "[1, 4]"
      ]
     },
     "execution_count": 16,
     "metadata": {},
     "output_type": "execute_result"
    }
   ],
   "source": [
    "## Интервальная оболочка\n",
    "hull(a,b)"
   ]
  },
  {
   "cell_type": "code",
   "execution_count": 18,
   "metadata": {},
   "outputs": [
    {
     "data": {
      "text/plain": [
       "[-∞, ∞]"
      ]
     },
     "execution_count": 18,
     "metadata": {},
     "output_type": "execute_result"
    }
   ],
   "source": [
    "## Вся числовая ось\n",
    "c = interval(-Inf,Inf)"
   ]
  },
  {
   "cell_type": "code",
   "execution_count": 19,
   "metadata": {},
   "outputs": [
    {
     "data": {
      "text/plain": [
       "∅"
      ]
     },
     "execution_count": 19,
     "metadata": {},
     "output_type": "execute_result"
    }
   ],
   "source": [
    "## Пустой интервал\n",
    "e = emptyinterval()"
   ]
  },
  {
   "cell_type": "code",
   "execution_count": 20,
   "metadata": {},
   "outputs": [
    {
     "data": {
      "text/plain": [
       "∅"
      ]
     },
     "execution_count": 20,
     "metadata": {},
     "output_type": "execute_result"
    }
   ],
   "source": [
    "## Константа для пустого интервала\n",
    "e2 = ∅"
   ]
  }
 ],
 "metadata": {
  "kernelspec": {
   "display_name": "Julia 1.5.0",
   "language": "julia",
   "name": "julia-1.5"
  },
  "language_info": {
   "file_extension": ".jl",
   "mimetype": "application/julia",
   "name": "julia",
   "version": "1.5.0"
  }
 },
 "nbformat": 4,
 "nbformat_minor": 4
}
