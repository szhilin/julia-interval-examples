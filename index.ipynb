{
 "cells": [
  {
   "cell_type": "markdown",
   "metadata": {},
   "source": [
    "# Классическая интервальная арифметика\n",
    "\n",
    "Для интервальных арифметических операций развёрнутое определение задаётся следующими формулами:"
   ]
  },
  {
   "cell_type": "markdown",
   "metadata": {},
   "source": [
    "## Классическая интервальная арифметика\n",
    "\n",
    "Пакет interval включает множество интервальных арифметических операций и функций. Их полный перечень приведен в [документации](https://octave.sourceforge.io/interval/package_doc/Function-Names.html#Function-Names) к пакету. Имена функций по большей части соответствуют стандарту IEEE 1788-2015. "
   ]
  },
  {
   "cell_type": "markdown",
   "metadata": {},
   "source": [
    "Для интервальных арифметических операций развёрнутое\n",
    "определение задаётся следующими формулами:\n",
    "\n",
    "$\\mathbf{a} + \\mathbf{b} = [\\underline{\\mathbf{a}} + \\underline{\\mathbf{b}},\\ \\overline{\\mathbf{a}} + \\overline{\\mathbf{b}}],\\\\\n",
    "\\mathbf{a} - \\mathbf{b} = [\\underline{\\mathbf{a}} - \\overline{\\mathbf{b}},\\ \\overline{\\mathbf{a}} - \\underline{\\mathbf{b}}],\\\\\n",
    "\\mathbf{a} \\cdot \\mathbf{b} = [\\min(\\underline{\\mathbf{a}} \\cdot \\underline{\\mathbf{b}}, \\underline{\\mathbf{a}} \\cdot \\overline{\\mathbf{b}}, \\overline{\\mathbf{a}} \\cdot \\underline{\\mathbf{b}}, \\overline{\\mathbf{a}} \\cdot \\overline{\\mathbf{b}}),\\ \\max(\\underline{\\mathbf{a}} \\cdot \\underline{\\mathbf{b}}, \\underline{\\mathbf{a}} \\cdot \\overline{\\mathbf{b}}, \\overline{\\mathbf{a}} \\cdot \\underline{\\mathbf{b}}, \\overline{\\mathbf{a}} \\cdot \\overline{\\mathbf{b}})],\\\\\n",
    "\\mathbf{a}\\; / \\; \\mathbf{b} = \\mathbf{a} \\cdot [1\\;/\\;\\overline{\\mathbf{b}},\\ 1\\;/\\;\\underline{\\mathbf{b}}] \\quad \\mbox{для} \\quad \\mathbf{b} \\not\\owns 0.$ \n"
   ]
  },
  {
   "cell_type": "code",
   "execution_count": 6,
   "metadata": {},
   "outputs": [
    {
     "name": "stdout",
     "output_type": "stream",
     "text": [
      "[4, 6]\n",
      "[-3, -1]\n",
      "[3, 8]\n",
      "[0.25, 0.666667]\n"
     ]
    }
   ],
   "source": [
    "using IntervalArithmetic\n",
    "\n",
    "a = Interval(1,2)\n",
    "b = Interval(3,4)\n",
    "\n",
    "println(a + b)\n",
    "println(a - b)\n",
    "println(a * b)\n",
    "println(a / b)"
   ]
  }
 ],
 "metadata": {
  "kernelspec": {
   "display_name": "Julia 1.5.0",
   "language": "julia",
   "name": "julia-1.5"
  },
  "language_info": {
   "file_extension": ".jl",
   "mimetype": "application/julia",
   "name": "julia",
   "version": "1.5.0"
  }
 },
 "nbformat": 4,
 "nbformat_minor": 4
}
